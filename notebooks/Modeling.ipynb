{
 "cells": [
  {
   "cell_type": "markdown",
   "metadata": {},
   "source": [
    "# Technical Notebook"
   ]
  },
  {
   "cell_type": "markdown",
   "metadata": {},
   "source": [
    "___"
   ]
  },
  {
   "cell_type": "markdown",
   "metadata": {},
   "source": [
    "### Goal: \n",
    "Divorce rates have been increasing in the United States over the past several decades. In order to understand this phenomena in a tangible way, we develop an ensemble model to predict the marital status of American individuals - as either divorced or married. The feature importances surfaced through the prediction model are informative for further social and economic research as well as public programming.\n",
    "\n",
    "### Data:\n",
    "**[IPUMS USA](https://usa.ipums.org/usa/index.shtml)** supplies microdata on the American population for social, economic, and health research, aggregated from:\n",
    "- 16 federal censuses\n",
    "- American Community of Surveys, 2000-present\n",
    "- Puerto Rican Community Surveys, 2005-present\n",
    "\n",
    "Information is available on households or individual persons. In this project, we use **2018 survey data on 1.8 million individuals**. \n",
    "\n",
    "Output data is in fixed-width format, and to map information substrings to associated variables, we use [@ameasure's function on GitHub](https://github.com/ameasure/IPUMS-helper).\n",
    "\n",
    "### Model Selection:\n",
    "We run three classification models through a voting cassifier to reduce misclassification errors. The three models utilized are:\n",
    "- **Random Forest**\n",
    "  - The many independent decision trees in a random forest generally achieve high classification strength, partly due to random forest's inherent resistant to noise and variance.\n",
    "- **Logistic Regression**\n",
    "  - Also a common classifier model, especially appropriate for large datasets such as ours.\n",
    "- **Gradient Boosting**  \n",
    "  - The iterative weighting of decision trees would optimize classification of hard-to-predict outcomes. As a tree-based method, it is also resistant to noisy data and overfitting.\n",
    "\n",
    "### Contents:\n",
    "1. **Understanding the Data**\n",
    "2. **Feature Selection**\n",
    "3. **Hyperparameter Selection**\n",
    "4. **Ensemble Model Design**\n",
    "5. **Results and Recommendations**\n",
    "6. **Future Work**"
   ]
  },
  {
   "cell_type": "markdown",
   "metadata": {},
   "source": [
    "___\n",
    "### 1. Understanding the Data\n",
    "Here we directly read in a .csv file  - cleaned using our [protocol](https://github.com/gksidhu/development_econ/blob/master/python_files/data_cleaning.py), which is available among our python files."
   ]
  },
  {
   "cell_type": "code",
   "execution_count": 8,
   "metadata": {},
   "outputs": [
    {
     "name": "stderr",
     "output_type": "stream",
     "text": [
      "ERROR:root:File `'../python_files/imports.py'` not found.\n"
     ]
    }
   ],
   "source": [
    "# Import needed libraries\n",
    "%run ../python_files/imports.py\n",
    "\n",
    "# Import necessary functions\n",
    "# from python_files.utils import *\n",
    "\n",
    "# Plot graphs within notebook\n",
    "%matplotlib inline\n",
    "\n",
    "# Ignore unnecessary warnings\n",
    "# warnings.filterwarnings('ignore')"
   ]
  },
  {
   "cell_type": "code",
   "execution_count": 10,
   "metadata": {},
   "outputs": [
    {
     "data": {
      "text/html": [
       "<div>\n",
       "<style scoped>\n",
       "    .dataframe tbody tr th:only-of-type {\n",
       "        vertical-align: middle;\n",
       "    }\n",
       "\n",
       "    .dataframe tbody tr th {\n",
       "        vertical-align: top;\n",
       "    }\n",
       "\n",
       "    .dataframe thead th {\n",
       "        text-align: right;\n",
       "    }\n",
       "</style>\n",
       "<table border=\"1\" class=\"dataframe\">\n",
       "  <thead>\n",
       "    <tr style=\"text-align: right;\">\n",
       "      <th></th>\n",
       "      <th>MIGRATE1</th>\n",
       "      <th>VETSTAT</th>\n",
       "      <th>UHRSWORK</th>\n",
       "      <th>OCC</th>\n",
       "      <th>EMPSTAT</th>\n",
       "      <th>YRMARR</th>\n",
       "      <th>ANCESTR1</th>\n",
       "      <th>CLASSWKR</th>\n",
       "      <th>EDUC</th>\n",
       "      <th>INCTOT</th>\n",
       "      <th>...</th>\n",
       "      <th>MARST</th>\n",
       "      <th>NCHLT5</th>\n",
       "      <th>VALUEH</th>\n",
       "      <th>HHINCOME</th>\n",
       "      <th>MORTAMT1</th>\n",
       "      <th>YEAR</th>\n",
       "      <th>AGEMARR</th>\n",
       "      <th>PCT_HHINC</th>\n",
       "      <th>PCT_MTG_INC</th>\n",
       "      <th>OCC_BROAD</th>\n",
       "    </tr>\n",
       "  </thead>\n",
       "  <tbody>\n",
       "    <tr>\n",
       "      <th>0</th>\n",
       "      <td>1</td>\n",
       "      <td>1</td>\n",
       "      <td>0</td>\n",
       "      <td>0</td>\n",
       "      <td>3</td>\n",
       "      <td>1992</td>\n",
       "      <td>north american</td>\n",
       "      <td>0</td>\n",
       "      <td>2</td>\n",
       "      <td>15000</td>\n",
       "      <td>...</td>\n",
       "      <td>5</td>\n",
       "      <td>0</td>\n",
       "      <td>9999999</td>\n",
       "      <td>9999999</td>\n",
       "      <td>0</td>\n",
       "      <td>2018</td>\n",
       "      <td>40</td>\n",
       "      <td>0.15</td>\n",
       "      <td>0.0</td>\n",
       "      <td>other</td>\n",
       "    </tr>\n",
       "    <tr>\n",
       "      <th>1</th>\n",
       "      <td>1</td>\n",
       "      <td>1</td>\n",
       "      <td>0</td>\n",
       "      <td>0</td>\n",
       "      <td>3</td>\n",
       "      <td>1993</td>\n",
       "      <td>north american</td>\n",
       "      <td>0</td>\n",
       "      <td>2</td>\n",
       "      <td>12000</td>\n",
       "      <td>...</td>\n",
       "      <td>2</td>\n",
       "      <td>0</td>\n",
       "      <td>9999999</td>\n",
       "      <td>9999999</td>\n",
       "      <td>0</td>\n",
       "      <td>2018</td>\n",
       "      <td>40</td>\n",
       "      <td>0.12</td>\n",
       "      <td>0.0</td>\n",
       "      <td>other</td>\n",
       "    </tr>\n",
       "  </tbody>\n",
       "</table>\n",
       "<p>2 rows × 33 columns</p>\n",
       "</div>"
      ],
      "text/plain": [
       "   MIGRATE1  VETSTAT  UHRSWORK  OCC  EMPSTAT  YRMARR        ANCESTR1  \\\n",
       "0         1        1         0    0        3    1992  north american   \n",
       "1         1        1         0    0        3    1993  north american   \n",
       "\n",
       "   CLASSWKR  EDUC  INCTOT  ...  MARST  NCHLT5   VALUEH  HHINCOME  MORTAMT1  \\\n",
       "0         0     2   15000  ...      5       0  9999999   9999999         0   \n",
       "1         0     2   12000  ...      2       0  9999999   9999999         0   \n",
       "\n",
       "   YEAR  AGEMARR  PCT_HHINC  PCT_MTG_INC  OCC_BROAD  \n",
       "0  2018       40       0.15          0.0      other  \n",
       "1  2018       40       0.12          0.0      other  \n",
       "\n",
       "[2 rows x 33 columns]"
      ]
     },
     "execution_count": 10,
     "metadata": {},
     "output_type": "execute_result"
    }
   ],
   "source": [
    "# Read in data\n",
    "df = pd.read_csv('ipums_1.csv')\n",
    "df.head(2)"
   ]
  },
  {
   "cell_type": "markdown",
   "metadata": {},
   "source": [
    "**Target variable = marital status, or MARST.**\n",
    "Our target variable requires simplification from four classes: \n",
    "- Married with spouse present --> married\n",
    "- Married with spouse absent --> married\n",
    "- Widowed --> married\n",
    "- Divorced --> divorced\n",
    "- Separated --> divorced\n",
    "    \n",
    "**Indepedent variables:**\n",
    "  - 16 categorical\n",
    "  - 8 continuous"
   ]
  },
  {
   "cell_type": "code",
   "execution_count": 11,
   "metadata": {},
   "outputs": [
    {
     "data": {
      "text/plain": [
       "0    0.82251\n",
       "1    0.17749\n",
       "Name: MARST, dtype: float64"
      ]
     },
     "execution_count": 11,
     "metadata": {},
     "output_type": "execute_result"
    }
   ],
   "source": [
    "# Create binary target variable, 0 = married, 1 = divorced\n",
    "df.MARST = df.MARST.map({1:0, 2:0, 5:0, 3:1, 4:1})\n",
    "# Understand proportion of target variables outcomes\n",
    "df.MARST.value_counts(normalize=True)"
   ]
  },
  {
   "cell_type": "markdown",
   "metadata": {},
   "source": [
    "As we can see above, the divorced population is much smaller than the married population. To allow for equalized training on both target variable outcomes (married and divorced), we can oversample from the divorced population subset using SMOTE.\n",
    "\n",
    "**Defining variables:**"
   ]
  },
  {
   "cell_type": "code",
   "execution_count": 13,
   "metadata": {},
   "outputs": [],
   "source": [
    "# define X\n",
    "X = df.drop(['YRMARR', 'BIRTHYR', 'YEAR', 'OCC', 'PERWT', 'STRATA', 'CLUSTER', 'MARST'], axis=1)\n",
    "# define y\n",
    "y = df.MARST\n",
    "\n",
    "# define dummies, or categorical variables\n",
    "dummies = ['MIGRATE1', 'VETSTAT', 'EMPSTAT', 'ANCESTR1', 'STATEFIP', 'OCC_BROAD', 'CLASSWKR', 'NCHILD', 'MARRNO', 'NCHLT5', \n",
    "           'SEX', 'DEGFIELD', 'HISPAN', 'RACE', 'EDUC', 'MORTGAGE']"
   ]
  },
  {
   "cell_type": "markdown",
   "metadata": {},
   "source": [
    "___\n",
    "### 2. Feature Selection\n",
    "\n",
    "We utilize Random Forest to select the most important features for input into the final model. \n",
    "\n",
    "When training a tree, the Random Forest classifier ranks a feature's importance based on how much it decreases sample impurity weighted by the probability of samples reaching the node. The feature importance output from random forest is an average of the impurity of a feature across all trees in the forest. "
   ]
  },
  {
   "cell_type": "code",
   "execution_count": 64,
   "metadata": {},
   "outputs": [],
   "source": [
    "# Setup the Random Forest model\n",
    "rf = RandomForestClassifier(n_estimators=25, random_state=42, verbose=3, n_jobs=-1)\n",
    "\n",
    "# Create training and test sets\n",
    "X_train, X_test, y_train, y_test = train_test_split(X, y, test_size=0.3,random_state=42, stratify = y)\n",
    "\n",
    "# One hot encode categorical variables\n",
    "X_train_enc = pd.get_dummies(data = X_train, columns = dummies, drop_first = True)"
   ]
  },
  {
   "cell_type": "code",
   "execution_count": 66,
   "metadata": {},
   "outputs": [
    {
     "name": "stdout",
     "output_type": "stream",
     "text": [
      "Before OverSampling, counts of label '1': 233683\n",
      "Before OverSampling, counts of label '0': 1082916 \n",
      "\n",
      "After OverSampling, the shape of train_X: (2165832, 158)\n",
      "After OverSampling, the shape of train_y: (2165832,) \n",
      "\n",
      "After OverSampling, counts of label '1': 1082916\n",
      "After OverSampling, counts of label '0': 1082916\n"
     ]
    }
   ],
   "source": [
    "# Run SMOTE since divorced outcome target is only 18% of our dataset\n",
    "print(\"Before OverSampling, counts of label '1': {}\".format(sum(y_train == 1))) \n",
    "print(\"Before OverSampling, counts of label '0': {} \\n\".format(sum(y_train == 0)))\n",
    "\n",
    "sm = SMOTE_imb(random_state=42)\n",
    "X_train_res, y_train_res = sm.fit_sample(X_train_enc, y_train.ravel())\n",
    "\n",
    "print(\"After OverSampling, counts of label '1': {}\".format(sum(y_train_res == 1))) \n",
    "print(\"After OverSampling, counts of label '0': {}\".format(sum(y_train_res == 0)))"
   ]
  },
  {
   "cell_type": "code",
   "execution_count": 67,
   "metadata": {},
   "outputs": [
    {
     "name": "stderr",
     "output_type": "stream",
     "text": [
      "[Parallel(n_jobs=-1)]: Using backend ThreadingBackend with 4 concurrent workers.\n"
     ]
    },
    {
     "name": "stdout",
     "output_type": "stream",
     "text": [
      "building tree 1 of 25building tree 2 of 25building tree 3 of 25building tree 4 of 25\n",
      "\n",
      "\n",
      "\n",
      "building tree 5 of 25\n",
      "building tree 6 of 25\n",
      "building tree 7 of 25\n",
      "building tree 8 of 25\n",
      "building tree 9 of 25\n",
      "building tree 10 of 25\n",
      "building tree 11 of 25\n",
      "building tree 12 of 25\n",
      "building tree 13 of 25\n",
      "building tree 14 of 25\n",
      "building tree 15 of 25\n",
      "building tree 16 of 25\n",
      "building tree 17 of 25\n",
      "building tree 18 of 25\n",
      "building tree 19 of 25\n",
      "building tree 20 of 25\n",
      "building tree 21 of 25\n",
      "building tree 22 of 25\n",
      "building tree 23 of 25\n",
      "building tree 24 of 25\n",
      "building tree 25 of 25\n"
     ]
    },
    {
     "name": "stderr",
     "output_type": "stream",
     "text": [
      "[Parallel(n_jobs=-1)]: Done  25 out of  25 | elapsed:  6.7min finished\n"
     ]
    },
    {
     "name": "stdout",
     "output_type": "stream",
     "text": [
      "--- 428.4783549308777 seconds ---\n"
     ]
    }
   ],
   "source": [
    "# Fit the model to the one-hot-encoded, oversampled training set   \n",
    "rf.fit(X_train_res, y_train_res)"
   ]
  },
  {
   "cell_type": "markdown",
   "metadata": {},
   "source": [
    "After fitting the model to our training set, we plot feature importance. Below, we consider all features including and ranked above 'NCHLT5' (Number of children under five years of age). \n",
    "\n",
    "From these features, we drop household income and total inidvidual income since percent contribution to household income is a function of both variables and has over double the importance.\n",
    "\n",
    "We also drop other catorgories from the top list of features, as they tell us more about the diversity of individuals who are divorced rather than the features they have in common. For example, 'other' as an occupation or ancestral background is uninformative for our purposes."
   ]
  },
  {
   "cell_type": "code",
   "execution_count": 68,
   "metadata": {},
   "outputs": [
    {
     "data": {
      "image/png": "[encoded data removed]",
      "text/plain": [
       "<Figure size 1080x2160 with 1 Axes>"
      ]
     },
     "metadata": {
      "needs_background": "light"
     },
     "output_type": "display_data"
    }
   ],
   "source": [
    "col_names = X_train_enc.columns.tolist()\n",
    "\n",
    "# Create a pd.Series of features importances\n",
    "importances = pd.Series(data=rf.feature_importances_,\n",
    "                        index= col_names)\n",
    "\n",
    "# Sort importances\n",
    "importances_sorted = importances.sort_values()\n",
    "\n",
    "# Draw a horizontal barplot of importances_sorted\n",
    "plt.figure(figsize=(20,30))\n",
    "importances_sorted.plot(kind='barh', color='lightgreen')\n",
    "plt.title('Features Importances')\n",
    "plt.show()"
   ]
  },
  {
   "cell_type": "code",
   "execution_count": 102,
   "metadata": {},
   "outputs": [],
   "source": [
    "# Redefine dataset for modeling based on feature importances above -- after one hot encoding/get_dummies\n",
    "\n",
    "# define dummies -- categorical variables\n",
    "dummies = ['MIGRATE1', 'VETSTAT', 'EMPSTAT', 'ANCESTR1', 'STATEFIP', 'OCC_BROAD', 'CLASSWKR', 'NCHILD', 'MARRNO', 'NCHLT5', \n",
    "           'SEX', 'DEGFIELD', 'HISPAN', 'RACE', 'EDUC', 'MORTGAGE']\n",
    "\n",
    "# Create training and test sets using smaller split to RandomSearch hyperparameters for LogReg and XGBoost\n",
    "X_train, X_test, y_train, y_test = train_test_split(X, y, test_size=0.9,random_state=42, stratify = y)\n",
    "\n",
    "# One hot encode categorical variables\n",
    "X_train_enc = pd.get_dummies(data = X_train, columns = dummies, drop_first = True)\n",
    "X_test_enc = pd.get_dummies(data = X_test, columns = dummies, drop_first = True)\n",
    "\n",
    "# Ensure same variables in train and test datasets\n",
    "# Get missing columns in the training test\n",
    "missing_cols = set(X_train_enc.columns ) - set(X_test_enc.columns )\n",
    "# Add a missing column in test set with default value equal to 0\n",
    "for c in missing_cols:\n",
    "    X_test_enc[c] = 0\n",
    "# Ensure the order of column in the test set is in the same order than in train set\n",
    "X_test_enc = X_test_enc[X_train_enc.columns]\n",
    "\n",
    "# Keep more important features as displayed in graph above\n",
    "X_train_feat = X_train_enc[['PCT_HHINC', 'ANCESTR1_western european', 'AGE', 'EDUC_2', 'SEX_2', 'VALUEH', 'EDUC_1',\n",
    "                           'AGEMARR', 'MORTAMT1', 'MARRNO_2', 'NCHILD_2', 'CLASSWKR_2', 'MORTGAGE_1', 'EDUC_3', \n",
    "                           'ANCESTR1_north american', 'MORTGAGE_2', 'NCHILD_1', 'PCT_MTG_INC', 'UHRSWORK', 'MIGRATE1_2',\n",
    "                           'RACE_2', 'OCC_BROAD_service', 'EMPSTAT_3', 'OCC_BROAD_mgmt, biz, fin', 'ANCESTR1_hispanic',\n",
    "                           'NCHLT5_1']]\n",
    "\n",
    "X_test_feat = X_test_enc[['PCT_HHINC', 'ANCESTR1_western european', 'AGE', 'EDUC_2', 'SEX_2', 'VALUEH', 'EDUC_1',\n",
    "                           'AGEMARR', 'MORTAMT1', 'MARRNO_2', 'NCHILD_2', 'CLASSWKR_2', 'MORTGAGE_1', 'EDUC_3', \n",
    "                           'ANCESTR1_north american', 'MORTGAGE_2', 'NCHILD_1', 'PCT_MTG_INC', 'UHRSWORK', 'MIGRATE1_2',\n",
    "                           'RACE_2', 'OCC_BROAD_service', 'EMPSTAT_3', 'OCC_BROAD_mgmt, biz, fin', 'ANCESTR1_hispanic',\n",
    "                           'NCHLT5_1']]"
   ]
  },
  {
   "cell_type": "code",
   "execution_count": 105,
   "metadata": {},
   "outputs": [
    {
     "name": "stdout",
     "output_type": "stream",
     "text": [
      "Before OverSampling, counts of label '1': 33383\n",
      "Before OverSampling, counts of label '0': 154702 \n",
      "\n",
      "After OverSampling, the shape of train_X: (2165832, 158)\n",
      "After OverSampling, the shape of train_y: (2165832,) \n",
      "\n",
      "After OverSampling, counts of label '1': 1082916\n",
      "After OverSampling, counts of label '0': 1082916\n"
     ]
    }
   ],
   "source": [
    "# Run SMOTE since divorced outcome target is only 18% of our dataset\n",
    "print(\"Before OverSampling, counts of label '1': {}\".format(sum(y_train == 1))) \n",
    "print(\"Before OverSampling, counts of label '0': {} \\n\".format(sum(y_train == 0)))\n",
    "\n",
    "sm = SMOTE_imb(random_state=42)\n",
    "X_train_sm, y_train_sm = sm.fit_sample(X_train_feat, y_train.ravel())\n",
    "\n",
    "print('After OverSampling, the shape of train_X: {}'.format(X_train_res.shape)) \n",
    "print('After OverSampling, the shape of train_y: {} \\n'.format(y_train_res.shape)) \n",
    "\n",
    "print(\"After OverSampling, counts of label '1': {}\".format(sum(y_train_res == 1))) \n",
    "print(\"After OverSampling, counts of label '0': {}\".format(sum(y_train_res == 0)))"
   ]
  },
  {
   "cell_type": "code",
   "execution_count": 106,
   "metadata": {},
   "outputs": [
    {
     "name": "stdout",
     "output_type": "stream",
     "text": [
      "Fitting 3 folds for each of 10 candidates, totalling 30 fits\n"
     ]
    },
    {
     "name": "stderr",
     "output_type": "stream",
     "text": [
      "[Parallel(n_jobs=-1)]: Using backend LokyBackend with 4 concurrent workers.\n",
      "[Parallel(n_jobs=-1)]: Done  30 out of  30 | elapsed:  1.3min finished\n"
     ]
    },
    {
     "data": {
      "text/plain": [
       "LogisticRegression(C=52.63205263157894, class_weight=None, dual=False,\n",
       "                   fit_intercept=True, intercept_scaling=1, l1_ratio=None,\n",
       "                   max_iter=100, multi_class='warn', n_jobs=None, penalty='l2',\n",
       "                   random_state=None, solver='liblinear', tol=0.0001, verbose=0,\n",
       "                   warm_start=False)"
      ]
     },
     "execution_count": 106,
     "metadata": {},
     "output_type": "execute_result"
    }
   ],
   "source": [
    "from sklearn.model_selection import RandomizedSearchCV\n",
    "from sklearn.preprocessing import StandardScaler\n",
    "from sklearn.linear_model import LogisticRegression\n",
    "\n",
    "# Normalization required for logistic regression\n",
    "ss = StandardScaler(with_mean=True)\n",
    "X_train_sm_ss = ss.fit_transform(X_train_sm)\n",
    "X_test_ss = ss.transform(X_test_feat)\n",
    "\n",
    "# Specify logistic regression parameters and distributions to sample from\n",
    "param_dist = {'C': np.linspace(.001, 100, 20)}\n",
    "\n",
    "logreg = LogisticRegression(solver = 'liblinear')\n",
    "\n",
    "rs = RandomizedSearchCV(logreg, param_dist, verbose = 3, n_jobs = -1, cv = 3)\n",
    "rs.fit(X_train_sm_ss, y_train_sm)\n",
    "\n",
    "# Print optimized hyper parameter values\n",
    "rs.best_estimator_"
   ]
  },
  {
   "cell_type": "code",
   "execution_count": 107,
   "metadata": {},
   "outputs": [
    {
     "data": {
      "text/plain": [
       "LogisticRegression(C=52.6, class_weight=None, dual=False, fit_intercept=True,\n",
       "                   intercept_scaling=1, l1_ratio=None, max_iter=100,\n",
       "                   multi_class='warn', n_jobs=None, penalty='l2',\n",
       "                   random_state=None, solver='liblinear', tol=0.0001, verbose=0,\n",
       "                   warm_start=False)"
      ]
     },
     "execution_count": 107,
     "metadata": {},
     "output_type": "execute_result"
    }
   ],
   "source": [
    "from sklearn.metrics import confusion_matrix, classification_report\n",
    "\n",
    "lr = LogisticRegression(C=52.6, class_weight=None, dual=False,\n",
    "                   fit_intercept=True, intercept_scaling=1, l1_ratio=None,\n",
    "                   max_iter=100, multi_class='warn', n_jobs=None, penalty='l2',\n",
    "                   random_state=None, solver='liblinear', tol=0.0001, verbose=0,\n",
    "                   warm_start=False)\n",
    "\n",
    "lr.fit(X_train_sm_ss, y_train_sm.ravel())"
   ]
  },
  {
   "cell_type": "code",
   "execution_count": 108,
   "metadata": {},
   "outputs": [
    {
     "data": {
      "text/html": [
       "<div>\n",
       "<style scoped>\n",
       "    .dataframe tbody tr th:only-of-type {\n",
       "        vertical-align: middle;\n",
       "    }\n",
       "\n",
       "    .dataframe tbody tr th {\n",
       "        vertical-align: top;\n",
       "    }\n",
       "\n",
       "    .dataframe thead th {\n",
       "        text-align: right;\n",
       "    }\n",
       "</style>\n",
       "<table border=\"1\" class=\"dataframe\">\n",
       "  <thead>\n",
       "    <tr style=\"text-align: right;\">\n",
       "      <th></th>\n",
       "      <th>predicted married</th>\n",
       "      <th>predicted divorced</th>\n",
       "    </tr>\n",
       "  </thead>\n",
       "  <tbody>\n",
       "    <tr>\n",
       "      <th>actual married</th>\n",
       "      <td>108127</td>\n",
       "      <td>46575</td>\n",
       "    </tr>\n",
       "    <tr>\n",
       "      <th>actual divorced</th>\n",
       "      <td>49856</td>\n",
       "      <td>104846</td>\n",
       "    </tr>\n",
       "  </tbody>\n",
       "</table>\n",
       "</div>"
      ],
      "text/plain": [
       "                 predicted married  predicted divorced\n",
       "actual married              108127               46575\n",
       "actual divorced              49856              104846"
      ]
     },
     "execution_count": 108,
     "metadata": {},
     "output_type": "execute_result"
    }
   ],
   "source": [
    "conf_matrix = pd.DataFrame(confusion_matrix(y_train_sm, lr.predict(X_train_sm_ss)),\n",
    "                           index = ['actual married', 'actual divorced'], \n",
    "                           columns = ['predicted married', 'predicted divorced'])\n",
    "conf_matrix"
   ]
  },
  {
   "cell_type": "code",
   "execution_count": 110,
   "metadata": {},
   "outputs": [
    {
     "name": "stdout",
     "output_type": "stream",
     "text": [
      "              precision    recall  f1-score   support\n",
      "\n",
      "           0       0.68      0.70      0.69    154702\n",
      "           1       0.69      0.68      0.68    154702\n",
      "\n",
      "    accuracy                           0.69    309404\n",
      "   macro avg       0.69      0.69      0.69    309404\n",
      "weighted avg       0.69      0.69      0.69    309404\n",
      "\n"
     ]
    }
   ],
   "source": [
    "print(classification_report(y_train_sm, lr.predict(X_train_sm_ss))) # report on training data"
   ]
  },
  {
   "cell_type": "code",
   "execution_count": 113,
   "metadata": {},
   "outputs": [],
   "source": [
    "# Import GradientBoostingClassifier\n",
    "from sklearn.ensemble import GradientBoostingClassifier\n",
    "\n",
    "'''Define the ensemble'''\n",
    "# Set seed\n",
    "SEED=42\n",
    "# Instantiate lr\n",
    "lr = LogisticRegression(C=52.6, verbose=3, random_state=SEED, solver='liblinear')\n",
    "# Instantiate knn\n",
    "rf = RandomForestClassifier(n_estimators=100, random_state=SEED, verbose=3, n_jobs=-1)\n",
    "# Instantiate gb\n",
    "gb = GradientBoostingClassifier(max_depth=3, \n",
    "            n_estimators=100, verbose=3,\n",
    "            random_state=SEED)\n",
    "\n",
    "\n",
    "# Define the list classifiers\n",
    "classifiers = [('Logistic Regression', lr), ('Random Forest', rf), ('Gradient Boost', gb)]"
   ]
  },
  {
   "cell_type": "code",
   "execution_count": 114,
   "metadata": {},
   "outputs": [
    {
     "name": "stdout",
     "output_type": "stream",
     "text": [
      "[LibLinear]Logistic Regression : 0.694\n"
     ]
    },
    {
     "name": "stderr",
     "output_type": "stream",
     "text": [
      "[Parallel(n_jobs=-1)]: Using backend ThreadingBackend with 4 concurrent workers.\n"
     ]
    },
    {
     "name": "stdout",
     "output_type": "stream",
     "text": [
      "building tree 1 of 100building tree 2 of 100building tree 3 of 100building tree 4 of 100\n",
      "\n",
      "\n",
      "\n",
      "building tree 5 of 100\n",
      "building tree 6 of 100\n",
      "building tree 7 of 100building tree 8 of 100\n",
      "\n",
      "building tree 9 of 100\n",
      "building tree 10 of 100\n",
      "building tree 11 of 100\n",
      "building tree 12 of 100\n",
      "building tree 13 of 100\n",
      "building tree 14 of 100\n",
      "building tree 15 of 100\n",
      "building tree 16 of 100\n",
      "building tree 17 of 100\n",
      "building tree 18 of 100\n",
      "building tree 19 of 100\n",
      "building tree 20 of 100\n",
      "building tree 21 of 100\n",
      "building tree 22 of 100\n",
      "building tree 23 of 100\n",
      "building tree 24 of 100\n",
      "building tree 25 of 100building tree 26 of 100\n",
      "\n",
      "building tree 27 of 100\n",
      "building tree 28 of 100\n"
     ]
    },
    {
     "name": "stderr",
     "output_type": "stream",
     "text": [
      "[Parallel(n_jobs=-1)]: Done  24 tasks      | elapsed:   19.8s\n"
     ]
    },
    {
     "name": "stdout",
     "output_type": "stream",
     "text": [
      "building tree 29 of 100\n",
      "building tree 30 of 100\n",
      "building tree 31 of 100\n",
      "building tree 32 of 100\n",
      "building tree 33 of 100\n",
      "building tree 34 of 100\n",
      "building tree 35 of 100\n",
      "building tree 36 of 100\n",
      "building tree 37 of 100\n",
      "building tree 38 of 100\n",
      "building tree 39 of 100\n",
      "building tree 40 of 100\n",
      "building tree 41 of 100\n",
      "building tree 42 of 100\n",
      "building tree 43 of 100\n",
      "building tree 44 of 100\n",
      "building tree 45 of 100\n",
      "building tree 46 of 100\n",
      "building tree 47 of 100\n",
      "building tree 48 of 100\n",
      "building tree 49 of 100\n",
      "building tree 50 of 100\n",
      "building tree 51 of 100\n",
      "building tree 52 of 100\n",
      "building tree 53 of 100\n",
      "building tree 54 of 100\n",
      "building tree 55 of 100\n",
      "building tree 56 of 100\n",
      "building tree 57 of 100\n",
      "building tree 58 of 100\n",
      "building tree 59 of 100\n",
      "building tree 60 of 100\n",
      "building tree 61 of 100\n",
      "building tree 62 of 100\n",
      "building tree 63 of 100\n",
      "building tree 64 of 100\n",
      "building tree 65 of 100\n",
      "building tree 66 of 100\n",
      "building tree 67 of 100\n",
      "building tree 68 of 100\n",
      "building tree 69 of 100\n",
      "building tree 70 of 100\n",
      "building tree 71 of 100\n",
      "building tree 72 of 100\n",
      "building tree 73 of 100building tree 74 of 100\n",
      "\n",
      "building tree 75 of 100\n",
      "building tree 76 of 100\n",
      "building tree 77 of 100\n",
      "building tree 78 of 100building tree 79 of 100\n",
      "\n",
      "building tree 80 of 100\n",
      "building tree 81 of 100\n",
      "building tree 82 of 100\n",
      "building tree 83 of 100\n",
      "building tree 84 of 100\n",
      "building tree 85 of 100\n",
      "building tree 86 of 100\n",
      "building tree 87 of 100\n",
      "building tree 88 of 100\n",
      "building tree 89 of 100\n",
      "building tree 90 of 100\n",
      "building tree 91 of 100\n",
      "building tree 92 of 100\n",
      "building tree 93 of 100\n",
      "building tree 94 of 100\n",
      "building tree 95 of 100\n",
      "building tree 96 of 100\n",
      "building tree 97 of 100\n",
      "building tree 98 of 100\n",
      "building tree 99 of 100\n",
      "building tree 100 of 100\n"
     ]
    },
    {
     "name": "stderr",
     "output_type": "stream",
     "text": [
      "[Parallel(n_jobs=-1)]: Done 100 out of 100 | elapsed:  1.3min finished\n",
      "[Parallel(n_jobs=4)]: Using backend ThreadingBackend with 4 concurrent workers.\n",
      "[Parallel(n_jobs=4)]: Done  24 tasks      | elapsed:   15.2s\n",
      "[Parallel(n_jobs=4)]: Done 100 out of 100 | elapsed:  1.1min finished\n"
     ]
    },
    {
     "name": "stdout",
     "output_type": "stream",
     "text": [
      "Random Forest : 0.850\n",
      "      Iter       Train Loss   Remaining Time \n",
      "         1           1.3226            4.33m\n",
      "         2           1.2702            4.21m\n",
      "         3           1.2263            3.94m\n",
      "         4           1.1898            3.77m\n",
      "         5           1.1495            3.69m\n",
      "         6           1.1233            3.61m\n",
      "         7           1.0981            3.55m\n",
      "         8           1.0806            3.46m\n",
      "         9           1.0637            3.39m\n",
      "        10           1.0462            3.32m\n",
      "        11           1.0323            3.26m\n",
      "        12           1.0127            3.22m\n",
      "        13           0.9923            3.19m\n",
      "        14           0.9644            3.15m\n",
      "        15           0.9536            3.10m\n",
      "        16           0.9420            3.05m\n",
      "        17           0.9230            3.03m\n",
      "        18           0.8972            3.00m\n",
      "        19           0.8820            2.96m\n",
      "        20           0.8721            2.91m\n",
      "        21           0.8519            2.88m\n",
      "        22           0.8455            2.84m\n",
      "        23           0.8260            2.80m\n",
      "        24           0.8188            2.76m\n",
      "        25           0.8042            2.72m\n",
      "        26           0.7891            2.69m\n",
      "        27           0.7763            2.65m\n",
      "        28           0.7658            2.61m\n",
      "        29           0.7598            2.57m\n",
      "        30           0.7554            2.53m\n",
      "        31           0.7479            2.49m\n",
      "        32           0.7355            2.45m\n",
      "        33           0.7301            2.42m\n",
      "        34           0.7253            2.38m\n",
      "        35           0.7220            2.34m\n",
      "        36           0.7115            2.30m\n",
      "        37           0.7043            2.26m\n",
      "        38           0.6944            2.23m\n",
      "        39           0.6857            2.19m\n",
      "        40           0.6805            2.15m\n",
      "        41           0.6776            2.12m\n",
      "        42           0.6715            2.08m\n",
      "        43           0.6639            2.05m\n",
      "        44           0.6594            2.02m\n",
      "        45           0.6561            1.98m\n",
      "        46           0.6500            1.94m\n",
      "        47           0.6480            1.91m\n",
      "        48           0.6432            1.87m\n",
      "        49           0.6410            1.84m\n",
      "        50           0.6350            1.80m\n",
      "        51           0.6307            1.77m\n",
      "        52           0.6284            1.73m\n",
      "        53           0.6267            1.69m\n",
      "        54           0.6219            1.66m\n",
      "        55           0.6199            1.62m\n",
      "        56           0.6168            1.58m\n",
      "        57           0.6145            1.55m\n",
      "        58           0.6094            1.51m\n",
      "        59           0.6082            1.47m\n",
      "        60           0.6029            1.44m\n",
      "        61           0.5998            1.41m\n",
      "        62           0.5985            1.40m\n",
      "        63           0.5942            1.38m\n",
      "        64           0.5900            1.37m\n",
      "        65           0.5885            1.33m\n",
      "        66           0.5851            1.29m\n",
      "        67           0.5803            1.25m\n",
      "        68           0.5776            1.21m\n",
      "        69           0.5743            1.18m\n",
      "        70           0.5719            1.14m\n",
      "        71           0.5697            1.10m\n",
      "        72           0.5687            1.06m\n",
      "        73           0.5667            1.03m\n",
      "        74           0.5640            1.00m\n",
      "        75           0.5630           58.07s\n",
      "        76           0.5611           55.93s\n",
      "        77           0.5586           53.52s\n",
      "        78           0.5570           51.13s\n",
      "        79           0.5560           48.77s\n",
      "        80           0.5533           46.42s\n",
      "        81           0.5511           44.10s\n",
      "        82           0.5503           41.73s\n",
      "        83           0.5494           39.37s\n",
      "        84           0.5487           37.22s\n",
      "        85           0.5474           34.97s\n",
      "        86           0.5445           32.72s\n",
      "        87           0.5431           30.36s\n",
      "        88           0.5423           27.98s\n",
      "        89           0.5397           25.72s\n",
      "        90           0.5391           23.45s\n",
      "        91           0.5386           21.08s\n",
      "        92           0.5380           18.68s\n",
      "        93           0.5373           16.28s\n",
      "        94           0.5350           13.89s\n",
      "        95           0.5344           11.53s\n",
      "        96           0.5327            9.19s\n",
      "        97           0.5318            6.86s\n",
      "        98           0.5295            4.56s\n",
      "        99           0.5271            2.27s\n",
      "       100           0.5261            0.00s\n",
      "Gradient Boost : 0.848\n"
     ]
    }
   ],
   "source": [
    "'''Evaluate individual classifiers'''\n",
    "# Iterate over the list of classifiers\n",
    "for clf_name, clf in classifiers:    \n",
    "    # Fit clf to the training set\n",
    "    clf.fit(X_train_sm_ss, y_train_sm)    \n",
    "    # Predict y_pred\n",
    "    y_pred = clf.predict(X_test_ss)\n",
    "    # Calculate accuracy\n",
    "    accuracy = accuracy_score(y_test, y_pred) \n",
    "    # Evaluate clf's accuracy on the test set\n",
    "    print('{:s} : {:.3f}'.format(clf_name, accuracy))"
   ]
  },
  {
   "cell_type": "code",
   "execution_count": 123,
   "metadata": {},
   "outputs": [
    {
     "name": "stderr",
     "output_type": "stream",
     "text": [
      "[Parallel(n_jobs=4)]: Using backend ThreadingBackend with 4 concurrent workers.\n",
      "[Parallel(n_jobs=4)]: Done  24 tasks      | elapsed:    8.0s\n",
      "[Parallel(n_jobs=4)]: Done 100 out of 100 | elapsed:   34.0s finished\n"
     ]
    },
    {
     "name": "stdout",
     "output_type": "stream",
     "text": [
      "Voting Classifier: 0.846\n"
     ]
    }
   ],
   "source": [
    "'''Improve performance with voting classifier'''\n",
    "# Import VotingClassifier from sklearn.ensemble\n",
    "from sklearn.ensemble import VotingClassifier\n",
    "# Instantiate a VotingClassifier vc\n",
    "vc = VotingClassifier(estimators=classifiers, voting='soft', n_jobs=-1)     \n",
    "# Fit vc to the training set\n",
    "vc.fit(X_train_sm_ss, y_train_sm)   \n",
    "# Evaluate the test set predictions\n",
    "y_pred = vc.predict(X_test_ss)\n",
    "# Calculate accuracy score\n",
    "accuracy = accuracy_score(y_test, y_pred)\n",
    "print('Voting Classifier: {:.3f}'.format(accuracy))"
   ]
  },
  {
   "cell_type": "code",
   "execution_count": 124,
   "metadata": {},
   "outputs": [
    {
     "data": {
      "text/html": [
       "<div>\n",
       "<style scoped>\n",
       "    .dataframe tbody tr th:only-of-type {\n",
       "        vertical-align: middle;\n",
       "    }\n",
       "\n",
       "    .dataframe tbody tr th {\n",
       "        vertical-align: top;\n",
       "    }\n",
       "\n",
       "    .dataframe thead th {\n",
       "        text-align: right;\n",
       "    }\n",
       "</style>\n",
       "<table border=\"1\" class=\"dataframe\">\n",
       "  <thead>\n",
       "    <tr style=\"text-align: right;\">\n",
       "      <th></th>\n",
       "      <th>predicted married</th>\n",
       "      <th>predicted divorced</th>\n",
       "    </tr>\n",
       "  </thead>\n",
       "  <tbody>\n",
       "    <tr>\n",
       "      <th>actual married</th>\n",
       "      <td>1295404</td>\n",
       "      <td>96917</td>\n",
       "    </tr>\n",
       "    <tr>\n",
       "      <th>actual divorced</th>\n",
       "      <td>164221</td>\n",
       "      <td>136229</td>\n",
       "    </tr>\n",
       "  </tbody>\n",
       "</table>\n",
       "</div>"
      ],
      "text/plain": [
       "                 predicted married  predicted divorced\n",
       "actual married             1295404               96917\n",
       "actual divorced             164221              136229"
      ]
     },
     "execution_count": 124,
     "metadata": {},
     "output_type": "execute_result"
    }
   ],
   "source": [
    "conf_matrix = pd.DataFrame(confusion_matrix(y_test, y_pred),\n",
    "                           index = ['actual married', 'actual divorced'], \n",
    "                           columns = ['predicted married', 'predicted divorced'])\n",
    "conf_matrix"
   ]
  },
  {
   "cell_type": "code",
   "execution_count": 125,
   "metadata": {},
   "outputs": [
    {
     "name": "stdout",
     "output_type": "stream",
     "text": [
      "              precision    recall  f1-score   support\n",
      "\n",
      "           0       0.89      0.93      0.91   1392321\n",
      "           1       0.58      0.45      0.51    300450\n",
      "\n",
      "    accuracy                           0.85   1692771\n",
      "   macro avg       0.74      0.69      0.71   1692771\n",
      "weighted avg       0.83      0.85      0.84   1692771\n",
      "\n"
     ]
    }
   ],
   "source": [
    "print(classification_report(y_test, y_pred)) "
   ]
  },
  {
   "cell_type": "code",
   "execution_count": 127,
   "metadata": {},
   "outputs": [
    {
     "name": "stderr",
     "output_type": "stream",
     "text": [
      "[Parallel(n_jobs=4)]: Using backend ThreadingBackend with 4 concurrent workers.\n",
      "[Parallel(n_jobs=4)]: Done  24 tasks      | elapsed:    8.3s\n",
      "[Parallel(n_jobs=4)]: Done 100 out of 100 | elapsed:   35.3s finished\n"
     ]
    },
    {
     "data": {
      "text/plain": [
       "Text(0.5, 1.0, 'ROC Curve')"
      ]
     },
     "execution_count": 127,
     "metadata": {},
     "output_type": "execute_result"
    },
    {
     "data": {
      "image/png": "[encoded data removed]",
      "text/plain": [
       "<Figure size 432x288 with 1 Axes>"
      ]
     },
     "metadata": {
      "needs_background": "light"
     },
     "output_type": "display_data"
    }
   ],
   "source": [
    "# ROC curve\n",
    "from sklearn.metrics import roc_curve\n",
    "# Compute predicted probabilities: y_pred_prob\n",
    "y_pred_prob = vc.predict_proba(X_test_ss)[:,1]\n",
    "# Generate ROC curve values: fpr, tpr, thresholds\n",
    "fpr, tpr, thresholds = roc_curve(y_test, y_pred_prob)\n",
    "# Plot ROC curve\n",
    "plt.plot([0, 1], [0, 1], 'k--')\n",
    "plt.plot(fpr, tpr)\n",
    "plt.xlabel('False Positive Rate')\n",
    "plt.ylabel('True Positive Rate')\n",
    "plt.title('ROC Curve')"
   ]
  },
  {
   "cell_type": "code",
   "execution_count": 128,
   "metadata": {},
   "outputs": [
    {
     "name": "stdout",
     "output_type": "stream",
     "text": [
      "AUC: 0.8095822416685617\n"
     ]
    }
   ],
   "source": [
    "# Import modules\n",
    "from sklearn.metrics import roc_auc_score\n",
    "\n",
    "# Compute and print AUC score\n",
    "print(\"AUC: {}\".format(roc_auc_score(y_test, y_pred_prob)))\n"
   ]
  },
  {
   "cell_type": "code",
   "execution_count": 147,
   "metadata": {},
   "outputs": [],
   "source": [
    "coef = list(zip(X_test_feat.columns, lr.coef_[0]))"
   ]
  },
  {
   "cell_type": "code",
   "execution_count": 150,
   "metadata": {},
   "outputs": [
    {
     "data": {
      "text/plain": [
       "[('PCT_HHINC', 0.7932821008770087),\n",
       " ('ANCESTR1_western european', -0.0039212287358792565),\n",
       " ('AGE', -0.24731870250058485),\n",
       " ('EDUC_2', -0.023451910547821433),\n",
       " ('SEX_2', 0.17811784957956084),\n",
       " ('VALUEH', -0.8603225561524073),\n",
       " ('EDUC_1', 0.07876031487841866),\n",
       " ('AGEMARR', -0.07579999840696805),\n",
       " ('MORTAMT1', -0.1895206907592076),\n",
       " ('MARRNO_2', 0.09694779443451378),\n",
       " ('NCHILD_2', -0.22077867406403498),\n",
       " ('CLASSWKR_2', 0.04699572512544782),\n",
       " ('MORTGAGE_1', -1.2613525936932801),\n",
       " ('EDUC_3', -0.12277183215097241),\n",
       " ('ANCESTR1_north american', 0.03439851731929192),\n",
       " ('MORTGAGE_2', -1.2187067900246147),\n",
       " ('NCHILD_1', -0.0027908560499117774),\n",
       " ('PCT_MTG_INC', 0.001469106748973314),\n",
       " ('UHRSWORK', -0.15519412388405499),\n",
       " ('MIGRATE1_2', 0.16483707575771483),\n",
       " ('RACE_2', 0.14580072278475814),\n",
       " ('OCC_BROAD_service', 0.06759446372588214),\n",
       " ('EMPSTAT_3', -0.021956296326281616),\n",
       " ('OCC_BROAD_mgmt, biz, fin', -0.05271384146838775),\n",
       " ('ANCESTR1_hispanic', 0.01556951053038669),\n",
       " ('NCHLT5_1', -0.3257666080965728)]"
      ]
     },
     "execution_count": 150,
     "metadata": {},
     "output_type": "execute_result"
    }
   ],
   "source": [
    "coef"
   ]
  },
  {
   "cell_type": "code",
   "execution_count": null,
   "metadata": {},
   "outputs": [],
   "source": [
    "sorted_coef = []\n",
    "for c in coef:\n",
    "    sorted_coef.append(c[1], "
   ]
  },
  {
   "cell_type": "code",
   "execution_count": 158,
   "metadata": {},
   "outputs": [
    {
     "data": {
      "text/plain": [
       "[('MORTGAGE_1', -1.2613525936932801),\n",
       " ('MORTGAGE_2', -1.2187067900246147),\n",
       " ('VALUEH', -0.8603225561524073),\n",
       " ('PCT_HHINC', 0.7932821008770087),\n",
       " ('NCHLT5_1', -0.3257666080965728),\n",
       " ('AGE', -0.24731870250058485),\n",
       " ('NCHILD_2', -0.22077867406403498),\n",
       " ('MORTAMT1', -0.1895206907592076),\n",
       " ('SEX_2', 0.17811784957956084),\n",
       " ('MIGRATE1_2', 0.16483707575771483),\n",
       " ('UHRSWORK', -0.15519412388405499),\n",
       " ('RACE_2', 0.14580072278475814),\n",
       " ('EDUC_3', -0.12277183215097241),\n",
       " ('MARRNO_2', 0.09694779443451378),\n",
       " ('EDUC_1', 0.07876031487841866),\n",
       " ('AGEMARR', -0.07579999840696805),\n",
       " ('OCC_BROAD_service', 0.06759446372588214),\n",
       " ('OCC_BROAD_mgmt, biz, fin', -0.05271384146838775),\n",
       " ('CLASSWKR_2', 0.04699572512544782),\n",
       " ('ANCESTR1_north american', 0.03439851731929192),\n",
       " ('EDUC_2', -0.023451910547821433),\n",
       " ('EMPSTAT_3', -0.021956296326281616),\n",
       " ('ANCESTR1_hispanic', 0.01556951053038669),\n",
       " ('ANCESTR1_western european', -0.0039212287358792565),\n",
       " ('NCHILD_1', -0.0027908560499117774),\n",
       " ('PCT_MTG_INC', 0.001469106748973314)]"
      ]
     },
     "execution_count": 158,
     "metadata": {},
     "output_type": "execute_result"
    }
   ],
   "source": [
    "sorted(coef, key=lambda x: np.abs(x[1]), reverse=True)"
   ]
  },
  {
   "cell_type": "code",
   "execution_count": 159,
   "metadata": {},
   "outputs": [
    {
     "name": "stderr",
     "output_type": "stream",
     "text": [
      "[Parallel(n_jobs=-1)]: Using backend ThreadingBackend with 4 concurrent workers.\n"
     ]
    },
    {
     "name": "stdout",
     "output_type": "stream",
     "text": [
      "building tree 1 of 100building tree 2 of 100building tree 3 of 100building tree 4 of 100\n",
      "\n",
      "\n",
      "\n",
      "building tree 5 of 100\n",
      "building tree 6 of 100\n",
      "building tree 7 of 100\n",
      "building tree 8 of 100\n",
      "building tree 9 of 100\n",
      "building tree 10 of 100\n",
      "building tree 11 of 100\n",
      "building tree 12 of 100\n",
      "building tree 13 of 100\n",
      "building tree 14 of 100\n",
      "building tree 15 of 100\n",
      "building tree 16 of 100\n",
      "building tree 17 of 100\n",
      "building tree 18 of 100building tree 19 of 100\n",
      "\n",
      "building tree 20 of 100\n",
      "building tree 21 of 100\n",
      "building tree 22 of 100\n",
      "building tree 23 of 100\n",
      "building tree 24 of 100\n",
      "building tree 25 of 100\n",
      "building tree 26 of 100\n",
      "building tree 27 of 100\n"
     ]
    },
    {
     "name": "stderr",
     "output_type": "stream",
     "text": [
      "[Parallel(n_jobs=-1)]: Done  24 tasks      | elapsed:   17.8s\n"
     ]
    },
    {
     "name": "stdout",
     "output_type": "stream",
     "text": [
      "building tree 28 of 100\n",
      "building tree 29 of 100\n",
      "building tree 30 of 100\n",
      "building tree 31 of 100\n",
      "building tree 32 of 100\n",
      "building tree 33 of 100\n",
      "building tree 34 of 100\n",
      "building tree 35 of 100\n",
      "building tree 36 of 100\n",
      "building tree 37 of 100\n",
      "building tree 38 of 100\n",
      "building tree 39 of 100\n",
      "building tree 40 of 100\n",
      "building tree 41 of 100\n",
      "building tree 42 of 100\n",
      "building tree 43 of 100\n",
      "building tree 44 of 100\n",
      "building tree 45 of 100\n",
      "building tree 46 of 100\n",
      "building tree 47 of 100\n",
      "building tree 48 of 100\n",
      "building tree 49 of 100\n",
      "building tree 50 of 100\n",
      "building tree 51 of 100\n",
      "building tree 52 of 100\n",
      "building tree 53 of 100\n",
      "building tree 54 of 100\n",
      "building tree 55 of 100\n",
      "building tree 56 of 100\n",
      "building tree 57 of 100\n",
      "building tree 58 of 100\n",
      "building tree 59 of 100\n",
      "building tree 60 of 100\n",
      "building tree 61 of 100\n",
      "building tree 62 of 100\n",
      "building tree 63 of 100\n",
      "building tree 64 of 100\n",
      "building tree 65 of 100\n",
      "building tree 66 of 100\n",
      "building tree 67 of 100\n",
      "building tree 68 of 100\n",
      "building tree 69 of 100\n",
      "building tree 70 of 100\n",
      "building tree 71 of 100\n",
      "building tree 72 of 100\n",
      "building tree 73 of 100\n",
      "building tree 74 of 100\n",
      "building tree 75 of 100\n",
      "building tree 76 of 100\n",
      "building tree 77 of 100\n",
      "building tree 78 of 100\n",
      "building tree 79 of 100\n",
      "building tree 80 of 100\n",
      "building tree 81 of 100\n",
      "building tree 82 of 100\n",
      "building tree 83 of 100\n",
      "building tree 84 of 100\n",
      "building tree 85 of 100\n",
      "building tree 86 of 100\n",
      "building tree 87 of 100\n",
      "building tree 88 of 100\n",
      "building tree 89 of 100\n",
      "building tree 90 of 100\n",
      "building tree 91 of 100\n",
      "building tree 92 of 100\n",
      "building tree 93 of 100\n",
      "building tree 94 of 100\n",
      "building tree 95 of 100\n",
      "building tree 96 of 100\n",
      "building tree 97 of 100\n",
      "building tree 98 of 100\n",
      "building tree 99 of 100\n",
      "building tree 100 of 100\n"
     ]
    },
    {
     "name": "stderr",
     "output_type": "stream",
     "text": [
      "[Parallel(n_jobs=-1)]: Done 100 out of 100 | elapsed:  1.2min finished\n"
     ]
    },
    {
     "data": {
      "text/plain": [
       "RandomForestClassifier(bootstrap=True, class_weight=None, criterion='gini',\n",
       "                       max_depth=None, max_features='auto', max_leaf_nodes=None,\n",
       "                       min_impurity_decrease=0.0, min_impurity_split=None,\n",
       "                       min_samples_leaf=1, min_samples_split=2,\n",
       "                       min_weight_fraction_leaf=0.0, n_estimators=100,\n",
       "                       n_jobs=-1, oob_score=False, random_state=42, verbose=3,\n",
       "                       warm_start=False)"
      ]
     },
     "execution_count": 159,
     "metadata": {},
     "output_type": "execute_result"
    }
   ],
   "source": [
    "rf = RandomForestClassifier(n_estimators=100, random_state=SEED, verbose=3, n_jobs=-1)\n",
    "rf.fit(X_train_sm_ss, y_train_sm)"
   ]
  },
  {
   "cell_type": "code",
   "execution_count": 163,
   "metadata": {},
   "outputs": [
    {
     "data": {
      "image/png": "[encoded data removed]",
      "text/plain": [
       "<Figure size 1080x720 with 1 Axes>"
      ]
     },
     "metadata": {
      "needs_background": "light"
     },
     "output_type": "display_data"
    }
   ],
   "source": [
    "col_names = X_train_feat.columns.tolist()\n",
    "# Create a pd.Series of features importances\n",
    "importances = pd.Series(data=rf.feature_importances_,\n",
    "                        index= col_names)\n",
    "\n",
    "# Sort importances\n",
    "importances_sorted = importances.sort_values()\n",
    "\n",
    "# Draw a horizontal barplot of importances_sorted\n",
    "plt.figure(figsize=(15,10))\n",
    "importances_sorted.plot(kind='barh', color='lightgreen')\n",
    "plt.title('Features Importances')\n",
    "plt.show()"
   ]
  },
  {
   "cell_type": "code",
   "execution_count": null,
   "metadata": {},
   "outputs": [],
   "source": []
  }
 ],
 "metadata": {
  "kernelspec": {
   "display_name": "Python 3",
   "language": "python",
   "name": "python3"
  },
  "language_info": {
   "codemirror_mode": {
    "name": "ipython",
    "version": 3
   },
   "file_extension": ".py",
   "mimetype": "text/x-python",
   "name": "python",
   "nbconvert_exporter": "python",
   "pygments_lexer": "ipython3",
   "version": "3.6.9"
  }
 },
 "nbformat": 4,
 "nbformat_minor": 2
}
